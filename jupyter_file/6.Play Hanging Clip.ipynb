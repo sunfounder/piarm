{
 "cells": [
  {
   "cell_type": "markdown",
   "metadata": {},
   "source": [
    "<font size=5> Let's play Hanging Clip!</font>  \n",
    "\n",
    "Assemble it as shown.\n",
    "![title](pic/sp200820_092611.png)\n",
    "Then, Run the cell↓↓↓"
   ]
  },
  {
   "cell_type": "code",
   "execution_count": 1,
   "metadata": {
    "collapsed": true
   },
   "outputs": [
    {
     "name": "stdout",
     "output_type": "stream",
     "text": [
      "pygame 1.9.4.post1\n",
      "Hello from the pygame community. https://www.pygame.org/contribute.html\n"
     ]
    },
    {
     "ename": "AttributeError",
     "evalue": "'Arm' object has no attribute 'hanging_clip_init'",
     "output_type": "error",
     "traceback": [
      "\u001b[0;31m---------------------------------------------------------------------------\u001b[0m",
      "\u001b[0;31mAttributeError\u001b[0m                            Traceback (most recent call last)",
      "\u001b[0;32m<ipython-input-1-eade4e41595c>\u001b[0m in \u001b[0;36m<module>\u001b[0;34m\u001b[0m\n\u001b[1;32m     10\u001b[0m \u001b[0;32mfrom\u001b[0m \u001b[0mpiarm\u001b[0m \u001b[0;32mimport\u001b[0m \u001b[0mArm\u001b[0m\u001b[0;34m\u001b[0m\u001b[0;34m\u001b[0m\u001b[0m\n\u001b[1;32m     11\u001b[0m \u001b[0m__ARM__\u001b[0m \u001b[0;34m=\u001b[0m \u001b[0mArm\u001b[0m\u001b[0;34m(\u001b[0m\u001b[0;34m[\u001b[0m\u001b[0;36m1\u001b[0m\u001b[0;34m,\u001b[0m\u001b[0;36m2\u001b[0m\u001b[0;34m,\u001b[0m\u001b[0;36m3\u001b[0m\u001b[0;34m]\u001b[0m\u001b[0;34m)\u001b[0m\u001b[0;34m\u001b[0m\u001b[0;34m\u001b[0m\u001b[0m\n\u001b[0;32m---> 12\u001b[0;31m \u001b[0m__ARM__\u001b[0m\u001b[0;34m.\u001b[0m\u001b[0mhanging_clip_init\u001b[0m\u001b[0;34m(\u001b[0m\u001b[0mPWM\u001b[0m\u001b[0;34m(\u001b[0m\u001b[0;34m\"P3\"\u001b[0m\u001b[0;34m)\u001b[0m\u001b[0;34m)\u001b[0m\u001b[0;34m\u001b[0m\u001b[0;34m\u001b[0m\u001b[0m\n\u001b[0m\u001b[1;32m     13\u001b[0m \u001b[0;34m\u001b[0m\u001b[0m\n\u001b[1;32m     14\u001b[0m \u001b[0mxAxis\u001b[0m \u001b[0;34m=\u001b[0m \u001b[0;36m0\u001b[0m\u001b[0;34m\u001b[0m\u001b[0;34m\u001b[0m\u001b[0m\n",
      "\u001b[0;31mAttributeError\u001b[0m: 'Arm' object has no attribute 'hanging_clip_init'"
     ]
    }
   ],
   "source": [
    "import sys\n",
    "import time\n",
    "from ezblock import run_command,__reset_mcu__\n",
    "run_command(\"sudo rm /opt/ezblock/main\")\n",
    "__reset_mcu__()\n",
    "time.sleep(0.01)\n",
    "sys.path.append(r'/opt/ezblock')\n",
    "\n",
    "from ezblock import PWM, constrain, Joystick, ADC, Pin, delay\n",
    "from piarm import Arm\n",
    "__ARM__ = Arm([1,2,3])\n",
    "__ARM__.hanging_clip_init(PWM(\"P3\"))\n",
    "\n",
    "xAxis = 0\n",
    "yAxis = 80\n",
    "zAxis = 80\n",
    "angle = 0\n",
    "\n",
    "leftJoystick = Joystick(ADC('A0'),ADC('A1'),Pin('D0'))\n",
    "rightJoystick = Joystick(ADC('A2'),ADC('A3'),Pin('D1'))\n",
    "\n",
    "def set_position():\n",
    "    global xAxis, yAxis, zAxis\n",
    "    if leftJoystick.read_status() == \"left\":\n",
    "        xAxis = xAxis - 1\n",
    "    elif leftJoystick.read_status() == \"right\":\n",
    "        xAxis = xAxis + 1\n",
    "    elif leftJoystick.read_status() == \"up\":\n",
    "        yAxis = yAxis + 1\n",
    "    elif leftJoystick.read_status() == \"down\":\n",
    "        yAxis = yAxis - 1\n",
    "    if rightJoystick.read_status() == \"up\":\n",
    "        zAxis = zAxis + 1\n",
    "    elif rightJoystick.read_status() == \"down\":\n",
    "        zAxis = zAxis - 1\n",
    "    __ARM__.set_angle(__ARM__.coord2polar([xAxis, yAxis, zAxis]))\n",
    "    delay(10)\n",
    "    \n",
    "while True:\n",
    "    set_position()\n",
    "    if leftJoystick.read(2) == 0:\n",
    "        angle = angle + 5\n",
    "    elif rightJoystick.read(2)==0:\n",
    "        angle = angle - 5\n",
    "    angle = constrain(angle, 0, 90)\n",
    "    __ARM__.set_hanging_clip(angle)"
   ]
  },
  {
   "cell_type": "markdown",
   "metadata": {},
   "source": [
    "After the experience, stop this cell, then, read on."
   ]
  },
  {
   "cell_type": "markdown",
   "metadata": {},
   "source": [
    "##  You may need to know the following contents:     "
   ]
  },
  {
   "cell_type": "markdown",
   "metadata": {},
   "source": [
    "The functions associated with Hanging Clip include these:"
   ]
  },
  {
   "cell_type": "code",
   "execution_count": 1,
   "metadata": {},
   "outputs": [
    {
     "ename": "NameError",
     "evalue": "name '__ARM__' is not defined",
     "output_type": "error",
     "traceback": [
      "\u001b[0;31m---------------------------------------------------------------------------\u001b[0m",
      "\u001b[0;31mNameError\u001b[0m                                 Traceback (most recent call last)",
      "\u001b[0;32m<ipython-input-1-42700b0ca8f7>\u001b[0m in \u001b[0;36m<module>\u001b[0;34m\u001b[0m\n\u001b[0;32m----> 1\u001b[0;31m \u001b[0m__ARM__\u001b[0m\u001b[0;34m.\u001b[0m\u001b[0mhanging_clip_init\u001b[0m\u001b[0;34m(\u001b[0m\u001b[0mPWM\u001b[0m\u001b[0;34m(\u001b[0m\u001b[0;34m\"P3\"\u001b[0m\u001b[0;34m)\u001b[0m\u001b[0;34m)\u001b[0m\u001b[0;34m\u001b[0m\u001b[0;34m\u001b[0m\u001b[0m\n\u001b[0m",
      "\u001b[0;31mNameError\u001b[0m: name '__ARM__' is not defined"
     ]
    }
   ],
   "source": [
    "__ARM__.hanging_clip_init(PWM(\"P3\"))"
   ]
  },
  {
   "cell_type": "markdown",
   "metadata": {},
   "source": [
    "This statement is used to initialize the Hanging Clip component, which means that the component is controlled by the P3 port."
   ]
  },
  {
   "cell_type": "code",
   "execution_count": null,
   "metadata": {},
   "outputs": [],
   "source": [
    "angle = 0\n",
    "__ARM__.set_hanging_clip(angle)"
   ]
  },
  {
   "cell_type": "markdown",
   "metadata": {},
   "source": [
    "This function is used to directly control the Hanging Clip, you can adjust its working angle yourself. The angle relationship is shown in the figure below.  \n",
    "\n",
    "![title](pic/sp200820_105305.png)  \n",
    "Completely closed when Angle is set to 90° and completely open when Angle is set to 0°.\n",
    "\n",
    "Now, you can try to modify the angle as you see fit. Modify the values within the statement, and then, Run the cell↓↓↓"
   ]
  },
  {
   "cell_type": "code",
   "execution_count": null,
   "metadata": {},
   "outputs": [],
   "source": [
    "__ARM__.set_hanging_clip(0)\n",
    "delay(500)\n",
    "__ARM__.set_hanging_clip(60)\n",
    "delay(500)\n",
    "__ARM__.set_hanging_clip(30)"
   ]
  },
  {
   "cell_type": "markdown",
   "metadata": {},
   "source": [
    "Put the read statements of Z-axis buttons into a **`while True`** loop for control. run the cell ↓↓↓ `"
   ]
  },
  {
   "cell_type": "code",
   "execution_count": null,
   "metadata": {},
   "outputs": [],
   "source": [
    "while True:\n",
    "    if leftJoystick.read(2) == 0:\n",
    "        angle = angle + 5\n",
    "    elif rightJoystick.read(2)==0:\n",
    "        angle = angle - 5\n",
    "    angle = constrain(angle, 0, 90)\n",
    "    __ARM__.set_hanging_clip(angle)"
   ]
  },
  {
   "cell_type": "markdown",
   "metadata": {},
   "source": [
    "Next, add **set_position**(same as Play PiArm by Joystick Module) to **while True** . Stop the cell above, and, Run it!↓↓↓"
   ]
  },
  {
   "cell_type": "code",
   "execution_count": null,
   "metadata": {},
   "outputs": [],
   "source": [
    "while True:\n",
    "    set_position()\n",
    "    if leftJoystick.read(2) == 0:\n",
    "        angle = angle + 5\n",
    "    elif rightJoystick.read(2)==0:\n",
    "        angle = angle - 5\n",
    "    angle = constrain(angle, 0, 90)\n",
    "    __ARM__.set_hanging_clip(angle)"
   ]
  }
 ],
 "metadata": {
  "kernelspec": {
   "display_name": "Python 3",
   "language": "python",
   "name": "python3"
  },
  "language_info": {
   "codemirror_mode": {
    "name": "ipython",
    "version": 3
   },
   "file_extension": ".py",
   "mimetype": "text/x-python",
   "name": "python",
   "nbconvert_exporter": "python",
   "pygments_lexer": "ipython3",
   "version": "3.7.3"
  }
 },
 "nbformat": 4,
 "nbformat_minor": 4
}
