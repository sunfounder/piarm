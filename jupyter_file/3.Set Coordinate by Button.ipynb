{
 "cells": [
  {
   "cell_type": "markdown",
   "metadata": {},
   "source": [
    "<font size=5> Let's change the coordinates. </font>  \n",
    "\n",
    "Run the cell.↓↓↓"
   ]
  },
  {
   "cell_type": "code",
   "execution_count": 1,
   "metadata": {},
   "outputs": [
    {
     "name": "stdout",
     "output_type": "stream",
     "text": [
      "pygame 1.9.4.post1\n",
      "Hello from the pygame community. https://www.pygame.org/contribute.html\n"
     ]
    },
    {
     "data": {
      "application/vnd.jupyter.widget-view+json": {
       "model_id": "7b935a9cac644dc29cbee0515709beae",
       "version_major": 2,
       "version_minor": 0
      },
      "text/plain": [
       "HBox(children=(VBox(children=(HBox(children=(Button(description='▲', style=ButtonStyle()),), layout=Layout(ali…"
      ]
     },
     "metadata": {},
     "output_type": "display_data"
    }
   ],
   "source": [
    "import sys\n",
    "import time\n",
    "from ezblock import run_command,__reset_mcu__\n",
    "run_command(\"sudo rm /opt/ezblock/main\")\n",
    "__reset_mcu__()\n",
    "time.sleep(0.01)\n",
    "sys.path.append(r'/opt/ezblock')\n",
    "\n",
    "from ezblock import constrain\n",
    "from piarm import Arm\n",
    "import ipywidgets as widgets\n",
    "from IPython.display import display\n",
    "\n",
    "__ARM__ = Arm([1,2,3]) \n",
    "x_axis = 0\n",
    "y_axis = 80\n",
    "z_axis = 80\n",
    "\n",
    "forward = widgets.Button(\n",
    "    description='▲',\n",
    ")\n",
    "backward = widgets.Button(\n",
    "    description='▼',\n",
    ")\n",
    "left = widgets.Button(\n",
    "    description='◀',\n",
    ")\n",
    "right = widgets.Button(\n",
    "    description='▶',\n",
    ")\n",
    "upward = widgets.Button(\n",
    "    description='⇧',\n",
    ")\n",
    "downward = widgets.Button(\n",
    "    description='⇩',\n",
    ")\n",
    "\n",
    "def forward_handler(change):\n",
    "    global x_axis, y_axis, z_axis\n",
    "    y_axis = constrain(y_axis + 10, 0, 120)\n",
    "    __ARM__.set_angle(__ARM__.coord2polar([x_axis, y_axis, z_axis]))\n",
    "    \n",
    "def backward_handler(change):\n",
    "    global x_axis, y_axis, z_axis\n",
    "    y_axis = constrain(y_axis - 10, 0, 100)\n",
    "    __ARM__.set_angle(__ARM__.coord2polar([x_axis, y_axis, z_axis]))\n",
    "    \n",
    "def left_handler(change):\n",
    "    global x_axis, y_axis, z_axis\n",
    "    x_axis = constrain(x_axis - 10, -160, 160)\n",
    "    __ARM__.set_angle(__ARM__.coord2polar([x_axis, y_axis, z_axis]))\n",
    "    \n",
    "def right_handler(change):\n",
    "    global x_axis, y_axis, z_axis\n",
    "    x_axis = constrain(x_axis + 10, -160, 160)\n",
    "    __ARM__.set_angle(__ARM__.coord2polar([x_axis, y_axis, z_axis]))\n",
    "    \n",
    "def upward_handler(change):\n",
    "    global x_axis, y_axis, z_axis\n",
    "    z_axis = constrain(z_axis + 10, -30, 140)\n",
    "    __ARM__.set_angle(__ARM__.coord2polar([x_axis, y_axis, z_axis]))\n",
    "    \n",
    "def downward_handler(change):\n",
    "    global x_axis, y_axis, z_axis\n",
    "    z_axis = constrain(z_axis - 10, -30, 140)\n",
    "    __ARM__.set_angle(__ARM__.coord2polar([x_axis, y_axis, z_axis]))\n",
    "    \n",
    "forward.on_click(forward_handler)\n",
    "backward.on_click(backward_handler)\n",
    "left.on_click(left_handler)\n",
    "right.on_click(right_handler)\n",
    "upward.on_click(upward_handler)\n",
    "downward.on_click(downward_handler)\n",
    "\n",
    "A1_box = widgets.HBox([forward], layout=widgets.Layout(align_self='center'))\n",
    "A2_box = widgets.HBox([left, right], layout=widgets.Layout(align_self='center'))\n",
    "A3_box = widgets.HBox([backward], layout=widgets.Layout(align_self='center'))\n",
    "\n",
    "A_box = widgets.VBox([A1_box, A2_box, A3_box])\n",
    "B_box = widgets.VBox([upward, downward], layout=widgets.Layout(align_self='center'))\n",
    "controls_box = widgets.HBox([A_box, B_box])\n",
    "\n",
    "display(controls_box)"
   ]
  },
  {
   "cell_type": "markdown",
   "metadata": {},
   "source": [
    "Now you can see the six buttons marked front, back, left, right, up and down at the top. Click on them and play!  \n",
    "Caution.  \n",
    "\n",
    "1) The 4 buttons on the left control PiArm's forward and backward movement, and the 2 buttons on the right control PiArm's up and down movement.  \n",
    "2) If you click the corresponding button, but the PiArm <font color=FF0000>move to a place other than expected</font>, it means that the current coordinate value is out of the effective range of PiArm's activity. In this case you need to click the **RESTART THE KERNEL** button on the menu bar to avoid burning out the servo.  \n",
    "3) You can modify the coordinate range by testing."
   ]
  },
  {
   "cell_type": "markdown",
   "metadata": {},
   "source": [
    "##  You may need to know the following contents:     \n",
    "\n",
    "\n",
    "Like Slider, these Buttons are based on the ipywidgets library. At the beginning of the code, we imported it.\n",
    ">`import ipywidgets as widgets`"
   ]
  },
  {
   "cell_type": "code",
   "execution_count": 2,
   "metadata": {},
   "outputs": [],
   "source": [
    "forward = widgets.Button(\n",
    "    description='▲',\n",
    ")\n",
    "backward = widgets.Button(\n",
    "    description='▼',\n",
    ")\n",
    "left = widgets.Button(\n",
    "    description='◀',\n",
    ")\n",
    "right = widgets.Button(\n",
    "    description='▶',\n",
    ")\n",
    "upward = widgets.Button(\n",
    "    description='⇧',\n",
    ")\n",
    "downward = widgets.Button(\n",
    "    description='⇩',\n",
    ")\n"
   ]
  },
  {
   "cell_type": "markdown",
   "metadata": {},
   "source": [
    "These functions are used to generate Button."
   ]
  },
  {
   "cell_type": "code",
   "execution_count": 4,
   "metadata": {},
   "outputs": [],
   "source": [
    "def forward_handler(change):\n",
    "    global x_axis, y_axis, z_axis\n",
    "    y_axis = constrain(y_axis + 10, 0, 160)\n",
    "    __ARM__.set_angle(__ARM__.coord2polar([x_axis, y_axis, z_axis]))\n",
    "    \n",
    "def backward_handler(change):\n",
    "    global x_axis, y_axis, z_axis\n",
    "    y_axis = constrain(y_axis - 10, 0, 160)\n",
    "    __ARM__.set_angle(__ARM__.coord2polar([x_axis, y_axis, z_axis]))\n",
    "    \n",
    "def left_handler(change):\n",
    "    global x_axis, y_axis, z_axis\n",
    "    x_axis = constrain(x_axis - 10, -160, 160)\n",
    "    __ARM__.set_angle(__ARM__.coord2polar([x_axis, y_axis, z_axis]))\n",
    "    \n",
    "def right_handler(change):\n",
    "    global x_axis, y_axis, z_axis\n",
    "    x_axis = constrain(x_axis + 10, -160, 160)\n",
    "    __ARM__.set_angle(__ARM__.coord2polar([x_axis, y_axis, z_axis]))\n",
    "    \n",
    "def upward_handler(change):\n",
    "    global x_axis, y_axis, z_axis\n",
    "    z_axis = constrain(z_axis + 10, -30, 140)\n",
    "    __ARM__.set_angle(__ARM__.coord2polar([x_axis, y_axis, z_axis]))\n",
    "    \n",
    "def downward_handler(change):\n",
    "    global x_axis, y_axis, z_axis\n",
    "    z_axis = constrain(z_axis - 10, -30, 140)\n",
    "    __ARM__.set_angle(__ARM__.coord2polar([x_axis, y_axis, z_axis]))\n",
    "    \n",
    "forward.on_click(forward_handler)\n",
    "backward.on_click(backward_handler)\n",
    "left.on_click(left_handler)\n",
    "right.on_click(right_handler)\n",
    "upward.on_click(upward_handler)\n",
    "downward.on_click(downward_handler)"
   ]
  },
  {
   "cell_type": "markdown",
   "metadata": {},
   "source": [
    "These functions generate response events for the Button - changing the coordinate position of the control point when the Button is pressed."
   ]
  },
  {
   "cell_type": "code",
   "execution_count": 5,
   "metadata": {},
   "outputs": [
    {
     "data": {
      "application/vnd.jupyter.widget-view+json": {
       "model_id": "e61c13a6d4604be6b6c414acf1634c49",
       "version_major": 2,
       "version_minor": 0
      },
      "text/plain": [
       "HBox(children=(VBox(children=(HBox(children=(Button(description='▲', style=ButtonStyle()),), layout=Layout(ali…"
      ]
     },
     "metadata": {},
     "output_type": "display_data"
    }
   ],
   "source": [
    "A1_box = widgets.HBox([forward], layout=widgets.Layout(align_self='center'))\n",
    "A2_box = widgets.HBox([left, right], layout=widgets.Layout(align_self='center'))\n",
    "A3_box = widgets.HBox([backward], layout=widgets.Layout(align_self='center'))\n",
    "\n",
    "A_box = widgets.VBox([A1_box, A2_box, A3_box])\n",
    "B_box = widgets.VBox([upward, downward], layout=widgets.Layout(align_self='center'))\n",
    "controls_box = widgets.HBox([A_box, B_box])\n",
    "\n",
    "display(controls_box)"
   ]
  },
  {
   "cell_type": "markdown",
   "metadata": {},
   "source": [
    "Arrange the Buttons and display them."
   ]
  },
  {
   "cell_type": "markdown",
   "metadata": {},
   "source": [
    "You can learn more about the usage of these Jupyter controls at the following address.  \n",
    "<url>https://ipywidgets.readthedocs.io/</url>"
   ]
  }
 ],
 "metadata": {
  "kernelspec": {
   "display_name": "Python 3",
   "language": "python",
   "name": "python3"
  },
  "language_info": {
   "codemirror_mode": {
    "name": "ipython",
    "version": 3
   },
   "file_extension": ".py",
   "mimetype": "text/x-python",
   "name": "python",
   "nbconvert_exporter": "python",
   "pygments_lexer": "ipython3",
   "version": "3.7.3"
  }
 },
 "nbformat": 4,
 "nbformat_minor": 4
}
