{
 "cells": [
  {
   "cell_type": "markdown",
   "metadata": {},
   "source": [
    "<font size=5> Hello, Friend! </font>  \n",
    "\n",
    "We will show you how to play PiArm. Please click on the cell below and press **Ctrl+Enter** to run it!"
   ]
  },
  {
   "cell_type": "code",
   "execution_count": 7,
   "metadata": {
    "collapsed": true
   },
   "outputs": [
    {
     "ename": "KeyboardInterrupt",
     "evalue": "",
     "output_type": "error",
     "traceback": [
      "\u001b[0;31m---------------------------------------------------------------------------\u001b[0m",
      "\u001b[0;31mKeyboardInterrupt\u001b[0m                         Traceback (most recent call last)",
      "\u001b[0;32m<ipython-input-7-2b01460cddcb>\u001b[0m in \u001b[0;36m<module>\u001b[0;34m\u001b[0m\n\u001b[1;32m     55\u001b[0m \u001b[0;34m\u001b[0m\u001b[0m\n\u001b[1;32m     56\u001b[0m \u001b[0;32mwhile\u001b[0m \u001b[0;32mTrue\u001b[0m\u001b[0;34m:\u001b[0m\u001b[0;34m\u001b[0m\u001b[0;34m\u001b[0m\u001b[0m\n\u001b[0;32m---> 57\u001b[0;31m     \u001b[0mcoordinate\u001b[0m\u001b[0;34m(\u001b[0m\u001b[0;34m)\u001b[0m\u001b[0;34m\u001b[0m\u001b[0;34m\u001b[0m\u001b[0m\n\u001b[0m\u001b[1;32m     58\u001b[0m     \u001b[0mdelay\u001b[0m\u001b[0;34m(\u001b[0m\u001b[0;36m1000\u001b[0m\u001b[0;34m)\u001b[0m\u001b[0;34m\u001b[0m\u001b[0;34m\u001b[0m\u001b[0m\n\u001b[1;32m     59\u001b[0m     \u001b[0mangle\u001b[0m\u001b[0;34m(\u001b[0m\u001b[0;34m)\u001b[0m\u001b[0;34m\u001b[0m\u001b[0;34m\u001b[0m\u001b[0m\n",
      "\u001b[0;32m<ipython-input-7-2b01460cddcb>\u001b[0m in \u001b[0;36mcoordinate\u001b[0;34m()\u001b[0m\n\u001b[1;32m     33\u001b[0m         \u001b[0m__ARM__\u001b[0m\u001b[0;34m.\u001b[0m\u001b[0mset_angle\u001b[0m\u001b[0;34m(\u001b[0m\u001b[0m__ARM__\u001b[0m\u001b[0;34m.\u001b[0m\u001b[0mcoord2polar\u001b[0m\u001b[0;34m(\u001b[0m\u001b[0;34m[\u001b[0m\u001b[0mxAxis\u001b[0m\u001b[0;34m,\u001b[0m\u001b[0myAxis\u001b[0m\u001b[0;34m,\u001b[0m\u001b[0mzAxis\u001b[0m\u001b[0;34m]\u001b[0m\u001b[0;34m)\u001b[0m\u001b[0;34m)\u001b[0m\u001b[0;34m\u001b[0m\u001b[0;34m\u001b[0m\u001b[0m\n\u001b[1;32m     34\u001b[0m     \u001b[0;32mfor\u001b[0m \u001b[0mzAxis\u001b[0m \u001b[0;32min\u001b[0m \u001b[0mrange\u001b[0m\u001b[0;34m(\u001b[0m\u001b[0;36m80\u001b[0m\u001b[0;34m,\u001b[0m \u001b[0;36m0\u001b[0m\u001b[0;34m,\u001b[0m \u001b[0;34m-\u001b[0m\u001b[0;36m1\u001b[0m\u001b[0;34m)\u001b[0m\u001b[0;34m:\u001b[0m\u001b[0;34m\u001b[0m\u001b[0;34m\u001b[0m\u001b[0m\n\u001b[0;32m---> 35\u001b[0;31m         \u001b[0m__ARM__\u001b[0m\u001b[0;34m.\u001b[0m\u001b[0mset_angle\u001b[0m\u001b[0;34m(\u001b[0m\u001b[0m__ARM__\u001b[0m\u001b[0;34m.\u001b[0m\u001b[0mcoord2polar\u001b[0m\u001b[0;34m(\u001b[0m\u001b[0;34m[\u001b[0m\u001b[0mxAxis\u001b[0m\u001b[0;34m,\u001b[0m\u001b[0myAxis\u001b[0m\u001b[0;34m,\u001b[0m\u001b[0mzAxis\u001b[0m\u001b[0;34m]\u001b[0m\u001b[0;34m)\u001b[0m\u001b[0;34m)\u001b[0m\u001b[0;34m\u001b[0m\u001b[0;34m\u001b[0m\u001b[0m\n\u001b[0m\u001b[1;32m     36\u001b[0m     \u001b[0;32mfor\u001b[0m \u001b[0mzAxis\u001b[0m \u001b[0;32min\u001b[0m \u001b[0mrange\u001b[0m\u001b[0;34m(\u001b[0m\u001b[0;36m0\u001b[0m\u001b[0;34m,\u001b[0m \u001b[0;36m80\u001b[0m\u001b[0;34m,\u001b[0m \u001b[0;36m1\u001b[0m\u001b[0;34m)\u001b[0m\u001b[0;34m:\u001b[0m\u001b[0;34m\u001b[0m\u001b[0;34m\u001b[0m\u001b[0m\n\u001b[1;32m     37\u001b[0m         \u001b[0m__ARM__\u001b[0m\u001b[0;34m.\u001b[0m\u001b[0mset_angle\u001b[0m\u001b[0;34m(\u001b[0m\u001b[0m__ARM__\u001b[0m\u001b[0;34m.\u001b[0m\u001b[0mcoord2polar\u001b[0m\u001b[0;34m(\u001b[0m\u001b[0;34m[\u001b[0m\u001b[0mxAxis\u001b[0m\u001b[0;34m,\u001b[0m\u001b[0myAxis\u001b[0m\u001b[0;34m,\u001b[0m\u001b[0mzAxis\u001b[0m\u001b[0;34m]\u001b[0m\u001b[0;34m)\u001b[0m\u001b[0;34m)\u001b[0m\u001b[0;34m\u001b[0m\u001b[0;34m\u001b[0m\u001b[0m\n",
      "\u001b[0;32m/opt/ezblock/piarm.py\u001b[0m in \u001b[0;36mset_angle\u001b[0;34m(self, angle)\u001b[0m\n\u001b[1;32m     28\u001b[0m \u001b[0;34m\u001b[0m\u001b[0m\n\u001b[1;32m     29\u001b[0m     \u001b[0;32mdef\u001b[0m \u001b[0mset_angle\u001b[0m\u001b[0;34m(\u001b[0m\u001b[0mself\u001b[0m\u001b[0;34m,\u001b[0m \u001b[0mangle\u001b[0m\u001b[0;34m)\u001b[0m\u001b[0;34m:\u001b[0m\u001b[0;34m\u001b[0m\u001b[0;34m\u001b[0m\u001b[0m\n\u001b[0;32m---> 30\u001b[0;31m         \u001b[0mself\u001b[0m\u001b[0;34m.\u001b[0m\u001b[0mservo_move\u001b[0m\u001b[0;34m(\u001b[0m\u001b[0mangle\u001b[0m\u001b[0;34m,\u001b[0m \u001b[0mself\u001b[0m\u001b[0;34m.\u001b[0m\u001b[0mspeed\u001b[0m\u001b[0;34m)\u001b[0m\u001b[0;34m\u001b[0m\u001b[0;34m\u001b[0m\u001b[0m\n\u001b[0m\u001b[1;32m     31\u001b[0m \u001b[0;34m\u001b[0m\u001b[0m\n\u001b[1;32m     32\u001b[0m     \u001b[0;32mdef\u001b[0m \u001b[0mcoord2polar\u001b[0m\u001b[0;34m(\u001b[0m\u001b[0mself\u001b[0m\u001b[0;34m,\u001b[0m \u001b[0mcoord\u001b[0m\u001b[0;34m)\u001b[0m\u001b[0;34m:\u001b[0m\u001b[0;34m\u001b[0m\u001b[0;34m\u001b[0m\u001b[0m\n",
      "\u001b[0;32m/opt/ezblock/robot.py\u001b[0m in \u001b[0;36mservo_move\u001b[0;34m(self, targets, speed)\u001b[0m\n\u001b[1;32m     74\u001b[0m                 \u001b[0;31m#5~5005us\u001b[0m\u001b[0;34m\u001b[0m\u001b[0;34m\u001b[0m\u001b[0;34m\u001b[0m\u001b[0m\n\u001b[1;32m     75\u001b[0m                 \u001b[0mt\u001b[0m \u001b[0;34m=\u001b[0m \u001b[0;34m(\u001b[0m\u001b[0;36m100\u001b[0m\u001b[0;34m-\u001b[0m\u001b[0mspeed\u001b[0m\u001b[0;34m)\u001b[0m\u001b[0;34m*\u001b[0m\u001b[0;36m50\u001b[0m\u001b[0;34m+\u001b[0m\u001b[0;36m5\u001b[0m\u001b[0;34m\u001b[0m\u001b[0;34m\u001b[0m\u001b[0m\n\u001b[0;32m---> 76\u001b[0;31m                 \u001b[0mtime\u001b[0m\u001b[0;34m.\u001b[0m\u001b[0msleep\u001b[0m\u001b[0;34m(\u001b[0m\u001b[0mt\u001b[0m\u001b[0;34m/\u001b[0m\u001b[0;36m100000\u001b[0m\u001b[0;34m)\u001b[0m\u001b[0;34m\u001b[0m\u001b[0;34m\u001b[0m\u001b[0m\n\u001b[0m\u001b[1;32m     77\u001b[0m \u001b[0;34m\u001b[0m\u001b[0m\n\u001b[1;32m     78\u001b[0m     \u001b[0;32mdef\u001b[0m \u001b[0mdo_action\u001b[0m\u001b[0;34m(\u001b[0m\u001b[0mself\u001b[0m\u001b[0;34m,\u001b[0m\u001b[0mmotion_name\u001b[0m\u001b[0;34m,\u001b[0m \u001b[0mstep\u001b[0m\u001b[0;34m=\u001b[0m\u001b[0;36m1\u001b[0m\u001b[0;34m,\u001b[0m \u001b[0mspeed\u001b[0m\u001b[0;34m=\u001b[0m\u001b[0;36m50\u001b[0m\u001b[0;34m)\u001b[0m\u001b[0;34m:\u001b[0m\u001b[0;34m\u001b[0m\u001b[0;34m\u001b[0m\u001b[0m\n",
      "\u001b[0;31mKeyboardInterrupt\u001b[0m: "
     ]
    }
   ],
   "source": [
    "import sys\n",
    "import time\n",
    "from ezblock import run_command,__reset_mcu__\n",
    "run_command(\"sudo rm /opt/ezblock/main\")\n",
    "__reset_mcu__()\n",
    "time.sleep(0.01)\n",
    "sys.path.append(r'/opt/ezblock')\n",
    "from ezblock import delay\n",
    "from piarm import Arm\n",
    "\n",
    "__ARM__ = Arm([1,2,3])\n",
    "\n",
    "xAxis = 0\n",
    "yAxis = 80\n",
    "zAxis = 80\n",
    "gamma = 0\n",
    "beta = 0\n",
    "alpha = 0\n",
    "\n",
    "def coordinate():\n",
    "    global xAxis, yAxis, zAxis\n",
    "    for xAxis in range(0, 60, 1):\n",
    "        __ARM__.set_angle(__ARM__.coord2polar([xAxis,yAxis,zAxis]))\n",
    "    for xAxis in range(60, -60, -1):\n",
    "        __ARM__.set_angle(__ARM__.coord2polar([xAxis,yAxis,zAxis]))\n",
    "    for xAxis in range(-60, 0, 1):\n",
    "        __ARM__.set_angle(__ARM__.coord2polar([xAxis,yAxis,zAxis]))\n",
    "    for yAxis in range(80, 30, -1):\n",
    "        __ARM__.set_angle(__ARM__.coord2polar([xAxis,yAxis,zAxis]))\n",
    "    for yAxis in range(30, 130, 1):\n",
    "        __ARM__.set_angle(__ARM__.coord2polar([xAxis,yAxis,zAxis]))\n",
    "    for yAxis in range(130, 80, -1):\n",
    "        __ARM__.set_angle(__ARM__.coord2polar([xAxis,yAxis,zAxis]))\n",
    "    for zAxis in range(80, 0, -1):\n",
    "        __ARM__.set_angle(__ARM__.coord2polar([xAxis,yAxis,zAxis]))\n",
    "    for zAxis in range(0, 80, 1):\n",
    "        __ARM__.set_angle(__ARM__.coord2polar([xAxis,yAxis,zAxis]))\n",
    "        \n",
    "def angle():\n",
    "    global gamma, beta, alpha\n",
    "    for gamma in range(0, 45, 1):\n",
    "        __ARM__.set_angle([alpha, beta, gamma])\n",
    "    for gamma in range(45, -45, -1):\n",
    "        __ARM__.set_angle([alpha, beta, gamma])\n",
    "    for gamma in range(-45, 0, 1):\n",
    "        __ARM__.set_angle([alpha, beta, gamma])\n",
    "    for beta in range(0, -45, -1):\n",
    "        __ARM__.set_angle([alpha, beta, gamma])\n",
    "    for beta in range(-45, 0, 1):\n",
    "        __ARM__.set_angle([alpha, beta, gamma])\n",
    "    for alpha in range(0, 45, 1):\n",
    "        __ARM__.set_angle([alpha, beta, gamma])\n",
    "    for alpha in range(45, 0, -1):\n",
    "        __ARM__.set_angle([alpha, beta, gamma])\n",
    "        \n",
    "while True:\n",
    "    coordinate()\n",
    "    delay(1000)\n",
    "    angle()\n",
    "    delay(1000)"
   ]
  },
  {
   "cell_type": "markdown",
   "metadata": {},
   "source": [
    "This is the basic code that drives PiArm, includes some initialization definitions and two ways to control PiArm by setting the angle and setting the coordinates.  \n",
    "Please read on to understand how this code controls PiArm.  \n",
    "Now, click on the cell again and press the \"■\" button in the menu bar to interrupt the code.  \n",
    "<font color=red>Note: The \"KeyboardInterrupt\" message will appear. You can hide the message by double clicking on the left empty area of the  message box.</font>   "
   ]
  },
  {
   "cell_type": "markdown",
   "metadata": {},
   "source": [
    "##  You may need to know the following contents:"
   ]
  },
  {
   "cell_type": "markdown",
   "metadata": {},
   "source": [
    "We are providing you with python code that runs on the Ezblock library.\n",
    "At the beginning of the code, there are the following statements. Their functions include calling related function libraries, resetting the control panel, and so on.\n",
    "\n",
    "> `   \n",
    "import sys\n",
    "import time\n",
    "from ezblock import run_command,__reset_mcu__\n",
    "run_command(\"sudo rm /opt/ezblock/main\") \n",
    "__reset_mcu__()\n",
    "time.sleep(0.01)\n",
    "sys.path.append(r'/opt/ezblock')\n",
    "from ezblock import delay\n",
    "from piarm import Arm`\n",
    "\n",
    "<font color=#888888>↑↑↑These statements allow you to use PiArm smoothly. however, you can ignore their specific meanings completely.</font>"
   ]
  },
  {
   "cell_type": "code",
   "execution_count": null,
   "metadata": {},
   "outputs": [],
   "source": [
    "__ARM__ = Arm([1,2,3])\n",
    "\n",
    "xAxis = 0\n",
    "yAxis = 80\n",
    "zAxis = 80\n",
    "gamma = 0\n",
    "beta = 0\n",
    "alpha = 0"
   ]
  },
  {
   "cell_type": "markdown",
   "metadata": {},
   "source": [
    "These statements are used to initialize the **ARM PART SERVOS**.  <br/>\n",
    "As well as creating some related variables (coordinate value & angle value) used to implement the control.  "
   ]
  },
  {
   "cell_type": "markdown",
   "metadata": {},
   "source": [
    "### Set Angle\n"
   ]
  },
  {
   "cell_type": "markdown",
   "metadata": {},
   "source": [
    "You need to pay attention to the set_angle() function, which is used to move the servo to the appropriate angle.  \n",
    "Run the following cell to view the movement of the servo!"
   ]
  },
  {
   "cell_type": "code",
   "execution_count": 5,
   "metadata": {},
   "outputs": [],
   "source": [
    "alpha=30\n",
    "beta=-40\n",
    "gamma=45\n",
    "__ARM__.set_angle([alpha, beta, gamma])"
   ]
  },
  {
   "cell_type": "markdown",
   "metadata": {},
   "source": [
    "The relationship between the **alpha, beta, gamma** angles and each servo is shown in the figure below.  \n",
    "![title](pic/sp200819_094633.png)"
   ]
  },
  {
   "cell_type": "markdown",
   "metadata": {},
   "source": [
    "Now you can try to modify the servo angle yourself.  \n",
    "Then run the cell↓↓↓"
   ]
  },
  {
   "cell_type": "code",
   "execution_count": 9,
   "metadata": {},
   "outputs": [],
   "source": [
    "__ARM__.set_angle([45,-30,45])\n",
    "__ARM__.set_angle([30,-30,30])\n",
    "__ARM__.set_angle([45,-45,20])"
   ]
  },
  {
   "cell_type": "markdown",
   "metadata": {},
   "source": [
    "\n",
    "Here, we use the for loop to make the **alpha, beta, and gamma** angle values change incrementally to make the servo rotate smoothly.  \n",
    "Now run the cell and see what happens.↓↓↓"
   ]
  },
  {
   "cell_type": "code",
   "execution_count": 8,
   "metadata": {},
   "outputs": [],
   "source": [
    "def angle():\n",
    "    global gamma, beta, alpha\n",
    "    for gamma in range(0, 45, 1):\n",
    "        __ARM__.set_angle([alpha, beta, gamma])\n",
    "    for gamma in range(45, -45, -1):\n",
    "        __ARM__.set_angle([alpha, beta, gamma])\n",
    "    for gamma in range(-45, 0, 1):\n",
    "        __ARM__.set_angle([alpha, beta, gamma])\n",
    "    for beta in range(0, -45, -1):\n",
    "        __ARM__.set_angle([alpha, beta, gamma])\n",
    "    for beta in range(-45, 0, 1):\n",
    "        __ARM__.set_angle([alpha, beta, gamma])\n",
    "    for alpha in range(0, 45, 1):\n",
    "        __ARM__.set_angle([alpha, beta, gamma])\n",
    "    for alpha in range(45, 0, -1):\n",
    "        __ARM__.set_angle([alpha, beta, gamma])\n",
    "        \n",
    "angle()"
   ]
  },
  {
   "cell_type": "markdown",
   "metadata": {},
   "source": [
    "### Set Coordinate"
   ]
  },
  {
   "cell_type": "markdown",
   "metadata": {},
   "source": [
    "In addition to controlling PiArm by angle, you can also control it by coordinates. 2 control methods are similar, but the coordinate values can be converted to angles using an operation.  \n",
    "Now, run the cell↓↓↓"
   ]
  },
  {
   "cell_type": "code",
   "execution_count": 10,
   "metadata": {},
   "outputs": [],
   "source": [
    "xAxis=45\n",
    "yAxis=70\n",
    "zAxis=70\n",
    "__ARM__.set_angle(__ARM__.coord2polar([xAxis,yAxis,zAxis]))"
   ]
  },
  {
   "cell_type": "markdown",
   "metadata": {},
   "source": [
    "The relationship between spatial rectangular coordinate system and **Control Point** is shown below.\n",
    "![title](pic/sp200819_103555.png)"
   ]
  },
  {
   "cell_type": "markdown",
   "metadata": {},
   "source": [
    "Now you can try to set the servo angle yourself.   \n",
    "Then run the cell↓↓↓"
   ]
  },
  {
   "cell_type": "code",
   "execution_count": 11,
   "metadata": {},
   "outputs": [],
   "source": [
    "__ARM__.set_angle(__ARM__.coord2polar([45,100,60]))\n",
    "__ARM__.set_angle(__ARM__.coord2polar([0,70,60]))\n",
    "__ARM__.set_angle(__ARM__.coord2polar([-45,120,60]))"
   ]
  },
  {
   "cell_type": "markdown",
   "metadata": {},
   "source": [
    "Here, we use the for loop to make **xAxis, yAxis, and zAxis** vary asymptotically to move the **Control Point**. \n",
    "Now run the cell and see what happens.↓↓↓"
   ]
  },
  {
   "cell_type": "code",
   "execution_count": 12,
   "metadata": {},
   "outputs": [],
   "source": [
    "def coordinate():\n",
    "    global xAxis, yAxis, zAxis\n",
    "    for xAxis in range(0, 60, 1):\n",
    "        __ARM__.set_angle(__ARM__.coord2polar([xAxis,yAxis,zAxis]))\n",
    "    for xAxis in range(60, -60, -1):\n",
    "        __ARM__.set_angle(__ARM__.coord2polar([xAxis,yAxis,zAxis]))\n",
    "    for xAxis in range(-60, 0, 1):\n",
    "        __ARM__.set_angle(__ARM__.coord2polar([xAxis,yAxis,zAxis]))\n",
    "    for yAxis in range(80, 30, -1):\n",
    "        __ARM__.set_angle(__ARM__.coord2polar([xAxis,yAxis,zAxis]))\n",
    "    for yAxis in range(30, 130, 1):\n",
    "        __ARM__.set_angle(__ARM__.coord2polar([xAxis,yAxis,zAxis]))\n",
    "    for yAxis in range(130, 80, -1):\n",
    "        __ARM__.set_angle(__ARM__.coord2polar([xAxis,yAxis,zAxis]))\n",
    "    for zAxis in range(80, 0, -1):\n",
    "        __ARM__.set_angle(__ARM__.coord2polar([xAxis,yAxis,zAxis]))\n",
    "    for zAxis in range(0, 80, 1):\n",
    "        __ARM__.set_angle(__ARM__.coord2polar([xAxis,yAxis,zAxis]))\n",
    "\n",
    "coordinate()"
   ]
  },
  {
   "cell_type": "markdown",
   "metadata": {},
   "source": [
    "Finally, a **while True** loop is used to keep both of these controls running."
   ]
  },
  {
   "cell_type": "code",
   "execution_count": null,
   "metadata": {},
   "outputs": [],
   "source": [
    "while True:\n",
    "    coordinate()\n",
    "    delay(1000)\n",
    "    angle()\n",
    "    delay(1000)"
   ]
  },
  {
   "cell_type": "markdown",
   "metadata": {},
   "source": [
    "Note that the **while True** loop does not stop by itself, you need to click the \"■\" button to stop it."
   ]
  },
  {
   "cell_type": "markdown",
   "metadata": {},
   "source": [
    "Over..."
   ]
  },
  {
   "cell_type": "code",
   "execution_count": null,
   "metadata": {},
   "outputs": [],
   "source": []
  }
 ],
 "metadata": {
  "kernelspec": {
   "display_name": "Python 3",
   "language": "python",
   "name": "python3"
  },
  "language_info": {
   "codemirror_mode": {
    "name": "ipython",
    "version": 3
   },
   "file_extension": ".py",
   "mimetype": "text/x-python",
   "name": "python",
   "nbconvert_exporter": "python",
   "pygments_lexer": "ipython3",
   "version": "3.7.3"
  }
 },
 "nbformat": 4,
 "nbformat_minor": 4
}
