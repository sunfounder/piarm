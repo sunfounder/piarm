{
 "cells": [
  {
   "cell_type": "markdown",
   "metadata": {},
   "source": [
    "<font size=5> Let's change the angle! </font>  \n",
    "\n",
    "Cut the crap. Run the cell.↓↓↓"
   ]
  },
  {
   "cell_type": "code",
   "execution_count": 1,
   "metadata": {
    "scrolled": true
   },
   "outputs": [
    {
     "name": "stdout",
     "output_type": "stream",
     "text": [
      "pygame 1.9.4.post1\n",
      "Hello from the pygame community. https://www.pygame.org/contribute.html\n"
     ]
    },
    {
     "data": {
      "application/vnd.jupyter.widget-view+json": {
       "model_id": "03ce14ecfffe484c868939bf9231409c",
       "version_major": 2,
       "version_minor": 0
      },
      "text/plain": [
       "IntSlider(value=0, description='alpha', max=45)"
      ]
     },
     "metadata": {},
     "output_type": "display_data"
    },
    {
     "data": {
      "application/vnd.jupyter.widget-view+json": {
       "model_id": "30a692a35cbc4c91bb30964829a580c3",
       "version_major": 2,
       "version_minor": 0
      },
      "text/plain": [
       "IntSlider(value=0, description='beta', max=0, min=-45)"
      ]
     },
     "metadata": {},
     "output_type": "display_data"
    },
    {
     "data": {
      "application/vnd.jupyter.widget-view+json": {
       "model_id": "aea8a651254b4693bbe220818ad00435",
       "version_major": 2,
       "version_minor": 0
      },
      "text/plain": [
       "IntSlider(value=0, description='gamma', max=45, min=-45)"
      ]
     },
     "metadata": {},
     "output_type": "display_data"
    }
   ],
   "source": [
    "import sys\n",
    "import time\n",
    "from ezblock import run_command,__reset_mcu__\n",
    "run_command(\"sudo rm /opt/ezblock/main\")\n",
    "__reset_mcu__()\n",
    "time.sleep(0.01)\n",
    "sys.path.append(r'/opt/ezblock')\n",
    "from piarm import Arm\n",
    "\n",
    "import ipywidgets as widgets\n",
    "from IPython.display import display\n",
    "\n",
    "__ARM__ = Arm([1,2,3]) \n",
    "\n",
    "alpha = 0\n",
    "beta = 0\n",
    "gamma = 0\n",
    "   \n",
    "alpha_slider = widgets.IntSlider(\n",
    "    description='alpha',\n",
    "    value=0,\n",
    "    min=0,\n",
    "    max=45,\n",
    "    step=1,\n",
    ")\n",
    "beta_slider = widgets.IntSlider(\n",
    "    description='beta',\n",
    "    value=0,\n",
    "    min=-45,\n",
    "    max=0,\n",
    "    step=1,\n",
    ")\n",
    "gamma_slider = widgets.IntSlider(\n",
    "    description='gamma',\n",
    "    value=0,\n",
    "    min=-45,\n",
    "    max=45,\n",
    "    step=1,\n",
    ")\n",
    "\n",
    "def on_alpha_slider_change(change):\n",
    "    global alpha, beta, gamma\n",
    "    alpha = change[\"new\"]\n",
    "    __ARM__.set_angle([alpha, beta, gamma])\n",
    "\n",
    "def on_beta_slider_change(change):\n",
    "    global alpha, beta, gamma\n",
    "    beta = change[\"new\"]\n",
    "    __ARM__.set_angle([alpha, beta, gamma])\n",
    "    \n",
    "def on_gamma_slider_change(change):\n",
    "    global alpha, beta, gamma\n",
    "    gamma = change[\"new\"]\n",
    "    __ARM__.set_angle([alpha, beta, gamma])\n",
    "\n",
    "alpha_slider.observe(on_alpha_slider_change, names='value')\n",
    "beta_slider.observe(on_beta_slider_change, names='value')\n",
    "gamma_slider.observe(on_gamma_slider_change, names='value')  \n",
    "\n",
    "display(alpha_slider, beta_slider, gamma_slider)"
   ]
  },
  {
   "cell_type": "markdown",
   "metadata": {},
   "source": [
    "Now you can see the three sliders above marked alpha, beta, and gamma. Slide them and play!"
   ]
  },
  {
   "cell_type": "markdown",
   "metadata": {},
   "source": [
    "##  You may need to know the following contents:   "
   ]
  },
  {
   "cell_type": "markdown",
   "metadata": {},
   "source": [
    "These Sliders run on the ipywidgets library, which we import at the beginning of the code.  \n",
    ">`import ipywidgets as widgets`\n",
    "\n",
    "And then there are some functions related to slider."
   ]
  },
  {
   "cell_type": "code",
   "execution_count": 2,
   "metadata": {},
   "outputs": [],
   "source": [
    "alpha_slider = widgets.IntSlider(\n",
    "    description='alpha',\n",
    "    value=0,\n",
    "    min=0,\n",
    "    max=45,\n",
    "    step=1,\n",
    ")\n",
    "beta_slider = widgets.IntSlider(\n",
    "    description='beta',\n",
    "    value=0,\n",
    "    min=-45,\n",
    "    max=0,\n",
    "    step=1,\n",
    ")\n",
    "gamma_slider = widgets.IntSlider(\n",
    "    description='gamma',\n",
    "    value=0,\n",
    "    min=-45,\n",
    "    max=45,\n",
    "    step=1,\n",
    ")"
   ]
  },
  {
   "cell_type": "markdown",
   "metadata": {},
   "source": [
    "These functions are used to generate Slider (but they don't show up directly)."
   ]
  },
  {
   "cell_type": "code",
   "execution_count": 3,
   "metadata": {},
   "outputs": [],
   "source": [
    "def on_alpha_slider_change(change):\n",
    "    global alpha, beta, gamma\n",
    "    alpha = change[\"new\"]\n",
    "    __ARM__.set_angle([alpha, beta, gamma])\n",
    "\n",
    "def on_beta_slider_change(change):\n",
    "    global alpha, beta, gamma\n",
    "    beta = change[\"new\"]\n",
    "    __ARM__.set_angle([alpha, beta, gamma])\n",
    "    \n",
    "def on_gamma_slider_change(change):\n",
    "    global alpha, beta, gamma\n",
    "    gamma = change[\"new\"]\n",
    "    __ARM__.set_angle([alpha, beta, gamma])\n",
    "\n",
    "alpha_slider.observe(on_alpha_slider_change, names='value')\n",
    "beta_slider.observe(on_beta_slider_change, names='value')\n",
    "gamma_slider.observe(on_gamma_slider_change, names='value')   "
   ]
  },
  {
   "cell_type": "markdown",
   "metadata": {},
   "source": [
    "These functions generate response events for the Slider - changing the angle of the servo as the Slider slides."
   ]
  },
  {
   "cell_type": "code",
   "execution_count": 2,
   "metadata": {},
   "outputs": [
    {
     "data": {
      "application/vnd.jupyter.widget-view+json": {
       "model_id": "03ce14ecfffe484c868939bf9231409c",
       "version_major": 2,
       "version_minor": 0
      },
      "text/plain": [
       "IntSlider(value=0, description='alpha', max=45)"
      ]
     },
     "metadata": {},
     "output_type": "display_data"
    },
    {
     "data": {
      "application/vnd.jupyter.widget-view+json": {
       "model_id": "30a692a35cbc4c91bb30964829a580c3",
       "version_major": 2,
       "version_minor": 0
      },
      "text/plain": [
       "IntSlider(value=0, description='beta', max=0, min=-45)"
      ]
     },
     "metadata": {},
     "output_type": "display_data"
    },
    {
     "data": {
      "application/vnd.jupyter.widget-view+json": {
       "model_id": "aea8a651254b4693bbe220818ad00435",
       "version_major": 2,
       "version_minor": 0
      },
      "text/plain": [
       "IntSlider(value=-11, description='gamma', max=45, min=-45)"
      ]
     },
     "metadata": {},
     "output_type": "display_data"
    }
   ],
   "source": [
    "display(alpha_slider, beta_slider, gamma_slider)"
   ]
  },
  {
   "cell_type": "markdown",
   "metadata": {},
   "source": [
    "The display() function will display the widget you generated earlier for your immediate use.    \n",
    "It's based on the IPython library, which we've called at the beginning of the code.  \n",
    ">`from IPython.display import display`"
   ]
  },
  {
   "cell_type": "markdown",
   "metadata": {},
   "source": [
    "You can learn more about the usage of these Jupyter controls at the following address.   \n",
    "<url>https://ipywidgets.readthedocs.io/</url>"
   ]
  }
 ],
 "metadata": {
  "kernelspec": {
   "display_name": "Python 3",
   "language": "python",
   "name": "python3"
  },
  "language_info": {
   "codemirror_mode": {
    "name": "ipython",
    "version": 3
   },
   "file_extension": ".py",
   "mimetype": "text/x-python",
   "name": "python",
   "nbconvert_exporter": "python",
   "pygments_lexer": "ipython3",
   "version": "3.7.3"
  }
 },
 "nbformat": 4,
 "nbformat_minor": 4
}
